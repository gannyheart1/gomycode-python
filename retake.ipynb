{
 "cells": [
  {
   "cell_type": "code",
   "execution_count": 8,
   "id": "c8c1935e",
   "metadata": {},
   "outputs": [],
   "source": [
    "def test(first,last):\n",
    "    full_name = first + \" \" + last\n",
    "    reversed_full_name = full_name[::-1]\n",
    "    \n",
    "    return(reversed_full_name)\n"
   ]
  },
  {
   "cell_type": "code",
   "execution_count": 9,
   "id": "55fd6d60",
   "metadata": {},
   "outputs": [
    {
     "data": {
      "text/plain": [
       "'tayinag obmabnugo'"
      ]
     },
     "execution_count": 9,
     "metadata": {},
     "output_type": "execute_result"
    }
   ],
   "source": [
    "test(\"ogunbambo\" , \"ganiyat\")"
   ]
  },
  {
   "cell_type": "code",
   "execution_count": 24,
   "id": "6fe260d4",
   "metadata": {},
   "outputs": [],
   "source": [
    "def test(n):\n",
    "    compute = int(n) + int(n+n) + int(n+n+n)\n",
    "    return(compute)\n",
    "    "
   ]
  },
  {
   "cell_type": "code",
   "execution_count": 25,
   "id": "f80b5dfe",
   "metadata": {},
   "outputs": [
    {
     "data": {
      "text/plain": [
       "615"
      ]
     },
     "execution_count": 25,
     "metadata": {},
     "output_type": "execute_result"
    }
   ],
   "source": [
    "test(\"5\")"
   ]
  },
  {
   "cell_type": "code",
   "execution_count": 32,
   "id": "6f644cc1",
   "metadata": {},
   "outputs": [
    {
     "name": "stdout",
     "output_type": "stream",
     "text": [
      "Enter Any Number: 647\n",
      "the number 647 is odd\n"
     ]
    }
   ],
   "source": [
    "def evenOrOdd():\n",
    "    num=int(input(\"Enter Any Number: \"))\n",
    "    if num %2 == 0:\n",
    "        print(\"the number {} is even\".format(num))\n",
    "    else:\n",
    "        print(\"the number {} is odd\".format(num))\n",
    "evenOrOdd()"
   ]
  },
  {
   "cell_type": "code",
   "execution_count": 34,
   "id": "19c4acdd",
   "metadata": {},
   "outputs": [
    {
     "name": "stdout",
     "output_type": "stream",
     "text": [
      "[2002, 2009, 2016, 2023, 2037, 2044, 2051, 2058, 2072, 2079, 2086, 2093, 2107, 2114, 2121, 2128, 2142, 2149, 2156, 2163, 2177, 2184, 2191, 2198, 2212, 2219, 2226, 2233, 2247, 2254, 2261, 2268, 2282, 2289, 2296, 2303, 2317, 2324, 2331, 2338, 2352, 2359, 2366, 2373, 2387, 2394, 2401, 2408, 2422, 2429, 2436, 2443, 2457, 2464, 2471, 2478, 2492, 2499, 2506, 2513, 2527, 2534, 2541, 2548, 2562, 2569, 2576, 2583, 2597, 2604, 2611, 2618, 2632, 2639, 2646, 2653, 2667, 2674, 2681, 2688, 2702, 2709, 2716, 2723, 2737, 2744, 2751, 2758, 2772, 2779, 2786, 2793, 2807, 2814, 2821, 2828, 2842, 2849, 2856, 2863, 2877, 2884, 2891, 2898, 2912, 2919, 2926, 2933, 2947, 2954, 2961, 2968, 2982, 2989, 2996, 3003, 3017, 3024, 3031, 3038, 3052, 3059, 3066, 3073, 3087, 3094, 3101, 3108, 3122, 3129, 3136, 3143, 3157, 3164, 3171, 3178, 3192, 3199]\n"
     ]
    }
   ],
   "source": [
    "list = []\n",
    "for i in range(2000,3201):\n",
    "    if i%7 == 0:\n",
    "        if i % 5 != 0:\n",
    "            list.append(i)\n",
    "print(list)"
   ]
  },
  {
   "cell_type": "code",
   "execution_count": 86,
   "id": "5df9c65c",
   "metadata": {},
   "outputs": [],
   "source": [
    "def fact(n):\n",
    "    a= int(input(\"enter a number\"))\n",
    "    num = int(n) * int(n-1) * int(n-2) * int(n-3)\n",
    "    return(num)\n",
    "        \n",
    "\n",
    "\n"
   ]
  },
  {
   "cell_type": "code",
   "execution_count": 87,
   "id": "cfc713ee",
   "metadata": {},
   "outputs": [
    {
     "ename": "SyntaxError",
     "evalue": "invalid syntax (1881879903.py, line 1)",
     "output_type": "error",
     "traceback": [
      "\u001b[1;36m  Input \u001b[1;32mIn [87]\u001b[1;36m\u001b[0m\n\u001b[1;33m    def fact(int(input(\"enter any number:\"))):\u001b[0m\n\u001b[1;37m                ^\u001b[0m\n\u001b[1;31mSyntaxError\u001b[0m\u001b[1;31m:\u001b[0m invalid syntax\n"
     ]
    }
   ],
   "source": [
    "def fact(int(input(\"enter any number:\"))):\n",
    "    result = n * (n-1)\n",
    "    return(result)"
   ]
  },
  {
   "cell_type": "code",
   "execution_count": null,
   "id": "ed486692",
   "metadata": {},
   "outputs": [],
   "source": []
  }
 ],
 "metadata": {
  "kernelspec": {
   "display_name": "Python 3 (ipykernel)",
   "language": "python",
   "name": "python3"
  },
  "language_info": {
   "codemirror_mode": {
    "name": "ipython",
    "version": 3
   },
   "file_extension": ".py",
   "mimetype": "text/x-python",
   "name": "python",
   "nbconvert_exporter": "python",
   "pygments_lexer": "ipython3",
   "version": "3.9.12"
  }
 },
 "nbformat": 4,
 "nbformat_minor": 5
}
