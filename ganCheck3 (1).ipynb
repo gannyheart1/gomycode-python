{
 "cells": [
  {
   "cell_type": "code",
   "execution_count": 22,
   "id": "8b5c1341",
   "metadata": {},
   "outputs": [
    {
     "name": "stdout",
     "output_type": "stream",
     "text": [
      "35\n"
     ]
    }
   ],
   "source": [
    "#questn1 Write a Python function to find the largest (max) of three numbers. (20, 35, 19) is 35.\n",
    "que1 = [20,35,19]\n",
    "largest = max(que1)\n",
    "print(largest)"
   ]
  },
  {
   "cell_type": "code",
   "execution_count": 23,
   "id": "115be0b8",
   "metadata": {},
   "outputs": [
    {
     "name": "stdout",
     "output_type": "stream",
     "text": [
      "(50, 30)\n"
     ]
    }
   ],
   "source": [
    "#questn2 Write a function calculation() so it can accept two variables and calculate the addition and subtraction of them. It must return both addition and subtraction in a single return call.For example:calculation(40, 10) should produce 50, 30\n",
    "def calc(a,b):\n",
    "    x = int(a)\n",
    "    y = int(b)\n",
    "    return((x+y) , (x-y))\n",
    "   \n",
    "print(calc(40,10))"
   ]
  },
  {
   "cell_type": "code",
   "execution_count": 24,
   "id": "71210821",
   "metadata": {},
   "outputs": [
    {
     "ename": "NameError",
     "evalue": "name 'x' is not defined",
     "output_type": "error",
     "traceback": [
      "\u001b[1;31m---------------------------------------------------------------------------\u001b[0m",
      "\u001b[1;31mNameError\u001b[0m                                 Traceback (most recent call last)",
      "Input \u001b[1;32mIn [24]\u001b[0m, in \u001b[0;36m<cell line: 7>\u001b[1;34m()\u001b[0m\n\u001b[0;32m      5\u001b[0m     z \u001b[38;5;241m=\u001b[39m \u001b[38;5;28mint\u001b[39m(c)\n\u001b[0;32m      6\u001b[0m     \u001b[38;5;28;01mreturn\u001b[39;00m((x\u001b[38;5;241m+\u001b[39my\u001b[38;5;241m+\u001b[39mz) , (x\u001b[38;5;241m*\u001b[39my\u001b[38;5;241m*\u001b[39mz))\n\u001b[1;32m----> 7\u001b[0m \u001b[38;5;28mprint\u001b[39m(soln(\u001b[43mx\u001b[49m,y,z))\n",
      "\u001b[1;31mNameError\u001b[0m: name 'x' is not defined"
     ]
    }
   ],
   "source": [
    "#questn3\n",
    "def soln(a,b,c):\n",
    "    x = int(a)\n",
    "    y = int(b)\n",
    "    z = int(c)\n",
    "    return((x+y+z) , (x*y*z))\n",
    "print(soln(x,y,z))"
   ]
  },
  {
   "cell_type": "code",
   "execution_count": 30,
   "id": "8e7ee151",
   "metadata": {},
   "outputs": [
    {
     "name": "stdout",
     "output_type": "stream",
     "text": [
      "18\n"
     ]
    }
   ],
   "source": [
    "#quest5\n",
    "def calc(D):\n",
    "    \n",
    "    H= 30\n",
    "    C= 50\n",
    "    from math import sqrt\n",
    "    Q = sqrt((2 * C * D)/H)\n",
    "    return(Q)\n",
    "\n",
    "\n",
    "\n",
    "print(round(calc(100)))"
   ]
  },
  {
   "cell_type": "code",
   "execution_count": 20,
   "id": "71eb55b2",
   "metadata": {},
   "outputs": [
    {
     "name": "stdout",
     "output_type": "stream",
     "text": [
      "22\n"
     ]
    }
   ],
   "source": [
    "def calc(D):\n",
    "    H= 30\n",
    "    C= 50\n",
    "    from math import sqrt\n",
    "    Q = sqrt((2 * C * D)/H)\n",
    "    return(Q)\n",
    "\n",
    "\n",
    "\n",
    "print(round(calc(150)))"
   ]
  },
  {
   "cell_type": "code",
   "execution_count": 21,
   "id": "a97a8c0f",
   "metadata": {},
   "outputs": [
    {
     "name": "stdout",
     "output_type": "stream",
     "text": [
      "24\n"
     ]
    }
   ],
   "source": [
    "def calc(D):\n",
    "    H= 30\n",
    "    C= 50\n",
    "    from math import sqrt\n",
    "    Q = sqrt((2 * C * D)/H)\n",
    "    return(Q)\n",
    "\n",
    "\n",
    "\n",
    "print(round(calc(180)))"
   ]
  },
  {
   "cell_type": "code",
   "execution_count": 35,
   "id": "172c948c",
   "metadata": {},
   "outputs": [
    {
     "name": "stdout",
     "output_type": "stream",
     "text": [
      "['black', 'green', 'red', 'white', 'yellow']\n"
     ]
    }
   ],
   "source": [
    "#questn 4\n",
    "Sample_items = \"green-red-yellow-black-white\"\n",
    "x = Sample_items.split(\"-\")\n",
    "y = sorted(x)\n",
    "\n",
    "print(y)"
   ]
  },
  {
   "cell_type": "code",
   "execution_count": null,
   "id": "da51a761",
   "metadata": {},
   "outputs": [],
   "source": []
  }
 ],
 "metadata": {
  "kernelspec": {
   "display_name": "Python 3 (ipykernel)",
   "language": "python",
   "name": "python3"
  },
  "language_info": {
   "codemirror_mode": {
    "name": "ipython",
    "version": 3
   },
   "file_extension": ".py",
   "mimetype": "text/x-python",
   "name": "python",
   "nbconvert_exporter": "python",
   "pygments_lexer": "ipython3",
   "version": "3.9.12"
  }
 },
 "nbformat": 4,
 "nbformat_minor": 5
}
