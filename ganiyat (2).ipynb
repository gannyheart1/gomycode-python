{
 "cells": [
  {
   "cell_type": "code",
   "execution_count": 1,
   "id": "a62bff90",
   "metadata": {},
   "outputs": [
    {
     "name": "stdout",
     "output_type": "stream",
     "text": [
      "Welcome to Python world! Let's start coding\n"
     ]
    }
   ],
   "source": [
    "print(\"Welcome to Python world! Let's start coding\")"
   ]
  },
  {
   "cell_type": "code",
   "execution_count": 14,
   "id": "5a82f3c9",
   "metadata": {},
   "outputs": [],
   "source": [
    "# change the function parameters if you need \n",
    "def test(a, b):\n",
    "  # write your code below this line \n",
    "  \n",
    "  x = int(a)\n",
    "  y = int(b)\n",
    "  l=((x+12)**2-(y**3))//9\n",
    "  \n",
    "  return(l) # write here the returned value of the function  \n",
    "  # Write your code above this line"
   ]
  },
  {
   "cell_type": "code",
   "execution_count": 15,
   "id": "e66d8ae0",
   "metadata": {},
   "outputs": [
    {
     "data": {
      "text/plain": [
       "14"
      ]
     },
     "execution_count": 15,
     "metadata": {},
     "output_type": "execute_result"
    }
   ],
   "source": [
    "test(2,4)"
   ]
  },
  {
   "cell_type": "code",
   "execution_count": 16,
   "id": "97a63fa2",
   "metadata": {},
   "outputs": [],
   "source": [
    "def cube_number(a):\n",
    "    result = a ** 3\n",
    "    return(result)"
   ]
  },
  {
   "cell_type": "code",
   "execution_count": 18,
   "id": "683e79f8",
   "metadata": {},
   "outputs": [
    {
     "data": {
      "text/plain": [
       "343"
      ]
     },
     "execution_count": 18,
     "metadata": {},
     "output_type": "execute_result"
    }
   ],
   "source": [
    "cube_number(7)"
   ]
  },
  {
   "cell_type": "markdown",
   "id": "bc2eeb8e",
   "metadata": {},
   "source": [
    "def test(x,y):\n"
   ]
  },
  {
   "cell_type": "code",
   "execution_count": 21,
   "id": "e3a72a6b",
   "metadata": {},
   "outputs": [],
   "source": [
    "def test(x,y):\n",
    "    result = ((x+12)**2-(y**3))//9\n",
    "    return (result)"
   ]
  },
  {
   "cell_type": "code",
   "execution_count": 22,
   "id": "1a458085",
   "metadata": {},
   "outputs": [
    {
     "data": {
      "text/plain": [
       "14"
      ]
     },
     "execution_count": 22,
     "metadata": {},
     "output_type": "execute_result"
    }
   ],
   "source": [
    "test(2,4)"
   ]
  },
  {
   "cell_type": "code",
   "execution_count": 26,
   "id": "d0eeb57d",
   "metadata": {},
   "outputs": [],
   "source": [
    "def area(l,b):\n",
    "    result = (l*b)\n",
    "    return (result)"
   ]
  },
  {
   "cell_type": "code",
   "execution_count": 28,
   "id": "da00e845",
   "metadata": {},
   "outputs": [
    {
     "data": {
      "text/plain": [
       "20"
      ]
     },
     "execution_count": 28,
     "metadata": {},
     "output_type": "execute_result"
    }
   ],
   "source": [
    "area(4,5)\n"
   ]
  },
  {
   "cell_type": "code",
   "execution_count": 43,
   "id": "f0e585b9",
   "metadata": {},
   "outputs": [],
   "source": [
    "def equation(x,y):\n",
    "    result = (x**2+2*y+4)\n",
    "    return (result)"
   ]
  },
  {
   "cell_type": "code",
   "execution_count": 44,
   "id": "fb50691e",
   "metadata": {},
   "outputs": [
    {
     "data": {
      "text/plain": [
       "16"
      ]
     },
     "execution_count": 44,
     "metadata": {},
     "output_type": "execute_result"
    }
   ],
   "source": [
    "equation(2,4)"
   ]
  },
  {
   "cell_type": "code",
   "execution_count": 47,
   "id": "d66b9859",
   "metadata": {},
   "outputs": [],
   "source": [
    "def quad(a,c):\n",
    "    result = ((4*a*c)**0.5)\n",
    "    return (result)"
   ]
  },
  {
   "cell_type": "code",
   "execution_count": 48,
   "id": "bf4a39e3",
   "metadata": {},
   "outputs": [
    {
     "data": {
      "text/plain": [
       "4.0"
      ]
     },
     "execution_count": 48,
     "metadata": {},
     "output_type": "execute_result"
    }
   ],
   "source": [
    "quad(2,2)"
   ]
  },
  {
   "cell_type": "code",
   "execution_count": 53,
   "id": "255ed776",
   "metadata": {},
   "outputs": [],
   "source": [
    "def quadratic(a,b,c):\n",
    "    result = (-b+(b**2-4*a*c)**0.5/2*a)\n",
    "    return (result)"
   ]
  },
  {
   "cell_type": "code",
   "execution_count": 54,
   "id": "280717a0",
   "metadata": {},
   "outputs": [
    {
     "data": {
      "text/plain": [
       "(-2.9999999999999996+4.795831523312719j)"
      ]
     },
     "execution_count": 54,
     "metadata": {},
     "output_type": "execute_result"
    }
   ],
   "source": [
    "quadratic(2,3,4)"
   ]
  },
  {
   "cell_type": "code",
   "execution_count": null,
   "id": "d7514e6b",
   "metadata": {},
   "outputs": [],
   "source": []
  }
 ],
 "metadata": {
  "kernelspec": {
   "display_name": "Python 3 (ipykernel)",
   "language": "python",
   "name": "python3"
  },
  "language_info": {
   "codemirror_mode": {
    "name": "ipython",
    "version": 3
   },
   "file_extension": ".py",
   "mimetype": "text/x-python",
   "name": "python",
   "nbconvert_exporter": "python",
   "pygments_lexer": "ipython3",
   "version": "3.9.12"
  }
 },
 "nbformat": 4,
 "nbformat_minor": 5
}
