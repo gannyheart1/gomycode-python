{
 "cells": [
  {
   "cell_type": "code",
   "execution_count": 10,
   "id": "bf6b5c8e",
   "metadata": {},
   "outputs": [],
   "source": [
    "#Q1convert array to ordinary list\n",
    "import numpy as np\n",
    "an_array = np.array([1,2,3,4,5,])\n",
    "ordi_list = an_array.tolist()"
   ]
  },
  {
   "cell_type": "code",
   "execution_count": 11,
   "id": "2f538960",
   "metadata": {},
   "outputs": [
    {
     "name": "stdout",
     "output_type": "stream",
     "text": [
      "[1, 2, 3, 4, 5]\n"
     ]
    }
   ],
   "source": [
    "print(ordi_list)"
   ]
  },
  {
   "cell_type": "code",
   "execution_count": 30,
   "id": "2105b705",
   "metadata": {},
   "outputs": [
    {
     "name": "stdout",
     "output_type": "stream",
     "text": [
      "15\n"
     ]
    }
   ],
   "source": [
    "#Q2compute sum of diagonal element\n",
    "import numpy as np\n",
    "ele = np.array([[1,2,3],[4,5,6],[7,8,9]])\n",
    "dia = ele.diagonal()\n",
    "A = dia\n",
    "compute = sum(A)\n",
    "print(compute)\n",
    "\n"
   ]
  },
  {
   "cell_type": "code",
   "execution_count": 34,
   "id": "81f2d900",
   "metadata": {},
   "outputs": [
    {
     "name": "stdout",
     "output_type": "stream",
     "text": [
      "15\n"
     ]
    }
   ],
   "source": [
    "#Q3compute sum of diagonal element using trace function\n",
    "import numpy as np\n",
    "elem = np.array([[1,2,3], [4,5,6], [7,8,9]])\n",
    "sum_of_diag = elem.trace()\n",
    "print(sum_of_diag)"
   ]
  },
  {
   "cell_type": "code",
   "execution_count": 66,
   "id": "a8d7dae9",
   "metadata": {},
   "outputs": [
    {
     "name": "stdout",
     "output_type": "stream",
     "text": [
      "3\n",
      "4\n",
      "5\n",
      "6\n",
      "4\n",
      "6\n",
      "3\n",
      "8\n"
     ]
    }
   ],
   "source": [
    "#Q4get all values higher than X\n",
    "import numpy as np\n",
    "valu = np.array([1,2,3,4,5,6,4,6,3,8])\n",
    "x = 2\n",
    "for x in valu:\n",
    "    if x > 2:\n",
    "        print(x)\n",
    "\n",
    "    "
   ]
  },
  {
   "cell_type": "code",
   "execution_count": 1,
   "id": "5ecb7123",
   "metadata": {},
   "outputs": [
    {
     "name": "stdout",
     "output_type": "stream",
     "text": [
      "[[ 3  6]\n",
      " [ 6 13]\n",
      " [ 9 17]]\n"
     ]
    }
   ],
   "source": [
    "#Q4addition by hand of 2arrays of the same shape\n",
    "import numpy as np\n",
    "A = np.array([[1,2], [2,5], [3,7]])\n",
    "B = np.array([[2,4], [4,8], [6,10]])\n",
    "C = A+B\n",
    "print (C)"
   ]
  },
  {
   "cell_type": "code",
   "execution_count": 2,
   "id": "4ae39e6d",
   "metadata": {},
   "outputs": [
    {
     "name": "stdout",
     "output_type": "stream",
     "text": [
      "[2.]\n"
     ]
    }
   ],
   "source": [
    "#Q5substract mean of each row in a given matrix\n",
    "import numpy as np\n",
    "A = np.array([[2,4,3,3]])\n",
    "B = np.array([[4,7,3,6]])\n",
    "X = A.mean(axis=1)\n",
    "Y = B.mean(axis=1)\n",
    "C = Y-X\n",
    "print(C)"
   ]
  },
  {
   "cell_type": "code",
   "execution_count": null,
   "id": "aaa6b9f8",
   "metadata": {},
   "outputs": [],
   "source": []
  }
 ],
 "metadata": {
  "kernelspec": {
   "display_name": "Python 3 (ipykernel)",
   "language": "python",
   "name": "python3"
  },
  "language_info": {
   "codemirror_mode": {
    "name": "ipython",
    "version": 3
   },
   "file_extension": ".py",
   "mimetype": "text/x-python",
   "name": "python",
   "nbconvert_exporter": "python",
   "pygments_lexer": "ipython3",
   "version": "3.9.12"
  }
 },
 "nbformat": 4,
 "nbformat_minor": 5
}
