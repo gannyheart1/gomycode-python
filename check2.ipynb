{
 "cells": [
  {
   "cell_type": "code",
   "execution_count": 12,
   "id": "001cd36e",
   "metadata": {},
   "outputs": [
    {
     "name": "stdout",
     "output_type": "stream",
     "text": [
      "36\n"
     ]
    }
   ],
   "source": [
    "list = [2,3,6]\n",
    "\n",
    "multiple = 1\n",
    "\n",
    "for i in list:\n",
    "    multiple = multiple * i\n",
    "print(multiple)"
   ]
  },
  {
   "cell_type": "code",
   "execution_count": 74,
   "id": "2e02e1f0",
   "metadata": {},
   "outputs": [
    {
     "ename": "SyntaxError",
     "evalue": "invalid syntax (1711256878.py, line 1)",
     "output_type": "error",
     "traceback": [
      "\u001b[1;36m  Input \u001b[1;32mIn [74]\u001b[1;36m\u001b[0m\n\u001b[1;33m    Sample List = [(2, 5), (1, 2), (4, 4), (2, 3), (2, 1)]\u001b[0m\n\u001b[1;37m           ^\u001b[0m\n\u001b[1;31mSyntaxError\u001b[0m\u001b[1;31m:\u001b[0m invalid syntax\n"
     ]
    }
   ],
   "source": [
    "Sample List = [(2, 5), (1, 2), (4, 4), (2, 3), (2, 1)]\n",
    "Sample List.sort()\n",
    "print(Sample List)"
   ]
  },
  {
   "cell_type": "code",
   "execution_count": 20,
   "id": "7cf79bee",
   "metadata": {},
   "outputs": [
    {
     "name": "stdout",
     "output_type": "stream",
     "text": [
      "[0, 1, 2, 2, 3, 5, 7, 9]\n"
     ]
    }
   ],
   "source": [
    "list = [2, 3,7,5,9,2,0,1]\n",
    "list.sort()\n",
    "print(list)"
   ]
  },
  {
   "cell_type": "code",
   "execution_count": 29,
   "id": "65de3082",
   "metadata": {},
   "outputs": [
    {
     "name": "stdout",
     "output_type": "stream",
     "text": [
      "{'a': 300, 'b': 200, 'c': 300, 'd': 400}\n"
     ]
    }
   ],
   "source": [
    "d1 = {'a': 100, 'b': 200, 'c':300}\n",
    "\n",
    "d2 = {'a': 300, 'b': 200, 'd':400}\n",
    "\n",
    "d3 = {**d1 , **d2}\n",
    "print(d3)"
   ]
  },
  {
   "cell_type": "code",
   "execution_count": 129,
   "id": "4f9d2548",
   "metadata": {},
   "outputs": [
    {
     "name": "stdout",
     "output_type": "stream",
     "text": [
      "[('item1', '12.20'), ('item2', '15.10'), ('item3', '24.5')]\n"
     ]
    }
   ],
   "source": [
    "list= [('item1', '12.20'), ('item3', '24.5'), ('item2', '15.10')]\n",
    "def e_sort(li):\n",
    "    return (li)\n",
    "s_list = sorted(list)\n",
    "print(s_list)"
   ]
  },
  {
   "cell_type": "code",
   "execution_count": 48,
   "id": "eed1191e",
   "metadata": {},
   "outputs": [
    {
     "name": "stdout",
     "output_type": "stream",
     "text": [
      "{'a': 400, 'b': 400, 'c': 300}\n"
     ]
    }
   ],
   "source": [
    "d1 = {'a': 100, 'b': 200, 'c':300}\n",
    "\n",
    "d2 = {'a': 300, 'b': 200, 'd':400}\n",
    "\n",
    "\n",
    "for key in d1:\n",
    "    if key in d2:\n",
    "        d1[key] = d1[key] + d2[key]\n",
    "    else:\n",
    "       \n",
    "       pass\n",
    "print(d1)"
   ]
  },
  {
   "cell_type": "code",
   "execution_count": 52,
   "id": "42719af0",
   "metadata": {},
   "outputs": [
    {
     "name": "stdout",
     "output_type": "stream",
     "text": [
      "{'a': 300, 'b': 200, 'd': 400}\n"
     ]
    }
   ],
   "source": [
    "print(d2)"
   ]
  },
  {
   "cell_type": "code",
   "execution_count": 83,
   "id": "e3693318",
   "metadata": {},
   "outputs": [
    {
     "name": "stdout",
     "output_type": "stream",
     "text": [
      "{(1, 1)}\n"
     ]
    }
   ],
   "source": [
    "#dict ={\"numb\": (i, i*i)}\n",
    "i = 1\n",
    "n= 8\n",
    "for count in range\n",
    "for key in dict:\n",
    "    dict = {(i, i *i)}\n",
    "    \n",
    "print(dict)\n"
   ]
  },
  {
   "cell_type": "code",
   "execution_count": 115,
   "id": "d4b750b3",
   "metadata": {},
   "outputs": [
    {
     "name": "stdout",
     "output_type": "stream",
     "text": [
      "[{'i': 'i*i'}]\n"
     ]
    }
   ],
   "source": [
    "i= 1\n",
    "n=8\n",
    "for count in range (1, n+1):\n",
    "\n",
    "    \n",
    "    mult = [{'i': \"i*i\"}]\n",
    "   \n",
    "print (mult)"
   ]
  },
  {
   "cell_type": "code",
   "execution_count": 127,
   "id": "205733e9",
   "metadata": {},
   "outputs": [
    {
     "name": "stdout",
     "output_type": "stream",
     "text": [
      "(1, 1)\n",
      "(1, 1)\n",
      "(1, 1)\n",
      "(1, 1)\n",
      "(1, 1)\n",
      "(1, 1)\n",
      "(1, 1)\n",
      "(1, 1)\n"
     ]
    }
   ],
   "source": [
    "for count in range (1, n+1):\n",
    "    n= 8\n",
    "    mul = i, i*i\n",
    "    print(mul)\n",
    "    "
   ]
  },
  {
   "cell_type": "code",
   "execution_count": null,
   "id": "6d74320c",
   "metadata": {},
   "outputs": [],
   "source": []
  }
 ],
 "metadata": {
  "kernelspec": {
   "display_name": "Python 3 (ipykernel)",
   "language": "python",
   "name": "python3"
  },
  "language_info": {
   "codemirror_mode": {
    "name": "ipython",
    "version": 3
   },
   "file_extension": ".py",
   "mimetype": "text/x-python",
   "name": "python",
   "nbconvert_exporter": "python",
   "pygments_lexer": "ipython3",
   "version": "3.9.12"
  }
 },
 "nbformat": 4,
 "nbformat_minor": 5
}
